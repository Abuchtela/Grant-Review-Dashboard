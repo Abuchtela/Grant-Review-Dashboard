{
 "cells": [
  {
   "cell_type": "markdown",
   "id": "c2f009e9",
   "metadata": {},
   "source": [
    "# WEBSITE VALIDATION LEGO"
   ]
  },
  {
   "cell_type": "markdown",
   "id": "b9fe86b4",
   "metadata": {},
   "source": [
    "This Lego makes a call to the website and returns if the website is working correctly (resquests.get().status_code == 200)  or not. \n",
    "This is one of the Legos developed to increase analyst power, or automatic software analysys when analysing grants subscription information for public fund distribution rounds"
   ]
  },
  {
   "cell_type": "markdown",
   "id": "e10ef1ec",
   "metadata": {},
   "source": [
    "## The lego: "
   ]
  },
  {
   "cell_type": "code",
   "execution_count": 7,
   "id": "7b98275a",
   "metadata": {},
   "outputs": [],
   "source": [
    "def website_validation(website):\n",
    "    website_working = []\n",
    "    website_status = requests.get(website,timeout = 10, verify = False).status_code\n",
    "    if (website_status == 200):\n",
    "        website_working.append(True)\n",
    "    else:\n",
    "        website_working.append(False)\n",
    "\n",
    "    return website_working[0]"
   ]
  },
  {
   "cell_type": "markdown",
   "id": "84fff838",
   "metadata": {},
   "source": [
    "## Example:"
   ]
  },
  {
   "cell_type": "code",
   "execution_count": 8,
   "id": "ddb19fa4",
   "metadata": {},
   "outputs": [],
   "source": [
    "import pandas as pd\n",
    "import requests\n",
    "import os"
   ]
  },
  {
   "cell_type": "code",
   "execution_count": 9,
   "id": "58a10ec8",
   "metadata": {},
   "outputs": [],
   "source": [
    "df = pd.read_excel('gr15_grants.xlsx')"
   ]
  },
  {
   "cell_type": "code",
   "execution_count": 10,
   "id": "d75381a8",
   "metadata": {},
   "outputs": [],
   "source": [
    "sample  = df[0:10]"
   ]
  },
  {
   "cell_type": "code",
   "execution_count": 11,
   "id": "12ba50b6",
   "metadata": {},
   "outputs": [
    {
     "data": {
      "text/plain": [
       "0    https://www.alphabetting.com.br\n",
       "1      https://www.africandata.tech/\n",
       "2                 https://dom.money/\n",
       "Name: website, dtype: object"
      ]
     },
     "execution_count": 11,
     "metadata": {},
     "output_type": "execute_result"
    }
   ],
   "source": [
    "sample['website'].head(3)"
   ]
  },
  {
   "cell_type": "code",
   "execution_count": 12,
   "id": "5f68998a",
   "metadata": {
    "collapsed": true
   },
   "outputs": [
    {
     "name": "stderr",
     "output_type": "stream",
     "text": [
      "C:\\ProgramData\\Anaconda3\\lib\\site-packages\\urllib3\\connectionpool.py:1045: InsecureRequestWarning: Unverified HTTPS request is being made to host 'www.alphabetting.com.br'. Adding certificate verification is strongly advised. See: https://urllib3.readthedocs.io/en/1.26.x/advanced-usage.html#ssl-warnings\n",
      "  warnings.warn(\n",
      "C:\\ProgramData\\Anaconda3\\lib\\site-packages\\urllib3\\connectionpool.py:1045: InsecureRequestWarning: Unverified HTTPS request is being made to host 'www.africandata.tech'. Adding certificate verification is strongly advised. See: https://urllib3.readthedocs.io/en/1.26.x/advanced-usage.html#ssl-warnings\n",
      "  warnings.warn(\n",
      "C:\\ProgramData\\Anaconda3\\lib\\site-packages\\urllib3\\connectionpool.py:1045: InsecureRequestWarning: Unverified HTTPS request is being made to host 'dom.money'. Adding certificate verification is strongly advised. See: https://urllib3.readthedocs.io/en/1.26.x/advanced-usage.html#ssl-warnings\n",
      "  warnings.warn(\n",
      "C:\\ProgramData\\Anaconda3\\lib\\site-packages\\urllib3\\connectionpool.py:1045: InsecureRequestWarning: Unverified HTTPS request is being made to host 'solgov.eth.limo'. Adding certificate verification is strongly advised. See: https://urllib3.readthedocs.io/en/1.26.x/advanced-usage.html#ssl-warnings\n",
      "  warnings.warn(\n",
      "C:\\ProgramData\\Anaconda3\\lib\\site-packages\\urllib3\\connectionpool.py:1045: InsecureRequestWarning: Unverified HTTPS request is being made to host 'bytekode.xyz'. Adding certificate verification is strongly advised. See: https://urllib3.readthedocs.io/en/1.26.x/advanced-usage.html#ssl-warnings\n",
      "  warnings.warn(\n",
      "C:\\ProgramData\\Anaconda3\\lib\\site-packages\\urllib3\\connectionpool.py:1045: InsecureRequestWarning: Unverified HTTPS request is being made to host 'www.bytekode.xyz'. Adding certificate verification is strongly advised. See: https://urllib3.readthedocs.io/en/1.26.x/advanced-usage.html#ssl-warnings\n",
      "  warnings.warn(\n",
      "C:\\ProgramData\\Anaconda3\\lib\\site-packages\\urllib3\\connectionpool.py:1045: InsecureRequestWarning: Unverified HTTPS request is being made to host 'meem.wtf'. Adding certificate verification is strongly advised. See: https://urllib3.readthedocs.io/en/1.26.x/advanced-usage.html#ssl-warnings\n",
      "  warnings.warn(\n",
      "C:\\ProgramData\\Anaconda3\\lib\\site-packages\\urllib3\\connectionpool.py:1045: InsecureRequestWarning: Unverified HTTPS request is being made to host 'build.meem.wtf'. Adding certificate verification is strongly advised. See: https://urllib3.readthedocs.io/en/1.26.x/advanced-usage.html#ssl-warnings\n",
      "  warnings.warn(\n",
      "C:\\ProgramData\\Anaconda3\\lib\\site-packages\\urllib3\\connectionpool.py:1045: InsecureRequestWarning: Unverified HTTPS request is being made to host 'white-paper.investinwomen.fi'. Adding certificate verification is strongly advised. See: https://urllib3.readthedocs.io/en/1.26.x/advanced-usage.html#ssl-warnings\n",
      "  warnings.warn(\n",
      "C:\\ProgramData\\Anaconda3\\lib\\site-packages\\urllib3\\connectionpool.py:1045: InsecureRequestWarning: Unverified HTTPS request is being made to host 'lexdao.coop'. Adding certificate verification is strongly advised. See: https://urllib3.readthedocs.io/en/1.26.x/advanced-usage.html#ssl-warnings\n",
      "  warnings.warn(\n",
      "C:\\ProgramData\\Anaconda3\\lib\\site-packages\\urllib3\\connectionpool.py:1045: InsecureRequestWarning: Unverified HTTPS request is being made to host 'www.lexdao.coop'. Adding certificate verification is strongly advised. See: https://urllib3.readthedocs.io/en/1.26.x/advanced-usage.html#ssl-warnings\n",
      "  warnings.warn(\n",
      "C:\\ProgramData\\Anaconda3\\lib\\site-packages\\urllib3\\connectionpool.py:1045: InsecureRequestWarning: Unverified HTTPS request is being made to host 'discord.gg'. Adding certificate verification is strongly advised. See: https://urllib3.readthedocs.io/en/1.26.x/advanced-usage.html#ssl-warnings\n",
      "  warnings.warn(\n",
      "C:\\ProgramData\\Anaconda3\\lib\\site-packages\\urllib3\\connectionpool.py:1045: InsecureRequestWarning: Unverified HTTPS request is being made to host 'discord.com'. Adding certificate verification is strongly advised. See: https://urllib3.readthedocs.io/en/1.26.x/advanced-usage.html#ssl-warnings\n",
      "  warnings.warn(\n"
     ]
    }
   ],
   "source": [
    "result = []\n",
    "for i in sample['website']:\n",
    "    result.append(website_validation(i))\n",
    "    "
   ]
  },
  {
   "cell_type": "code",
   "execution_count": 13,
   "id": "f8b6465e",
   "metadata": {
    "collapsed": true
   },
   "outputs": [
    {
     "name": "stderr",
     "output_type": "stream",
     "text": [
      "C:\\Users\\stefani.vieira\\AppData\\Local\\Temp\\ipykernel_9188\\4024983838.py:1: SettingWithCopyWarning: \n",
      "A value is trying to be set on a copy of a slice from a DataFrame.\n",
      "Try using .loc[row_indexer,col_indexer] = value instead\n",
      "\n",
      "See the caveats in the documentation: https://pandas.pydata.org/pandas-docs/stable/user_guide/indexing.html#returning-a-view-versus-a-copy\n",
      "  sample['website_validation_lego'] = result\n"
     ]
    }
   ],
   "source": [
    "sample['website_validation_lego'] = result"
   ]
  },
  {
   "cell_type": "code",
   "execution_count": 14,
   "id": "0ec5e170",
   "metadata": {},
   "outputs": [
    {
     "data": {
      "text/html": [
       "<div>\n",
       "<style scoped>\n",
       "    .dataframe tbody tr th:only-of-type {\n",
       "        vertical-align: middle;\n",
       "    }\n",
       "\n",
       "    .dataframe tbody tr th {\n",
       "        vertical-align: top;\n",
       "    }\n",
       "\n",
       "    .dataframe thead th {\n",
       "        text-align: right;\n",
       "    }\n",
       "</style>\n",
       "<table border=\"1\" class=\"dataframe\">\n",
       "  <thead>\n",
       "    <tr style=\"text-align: right;\">\n",
       "      <th></th>\n",
       "      <th>title</th>\n",
       "      <th>website</th>\n",
       "      <th>website_validation_lego</th>\n",
       "    </tr>\n",
       "  </thead>\n",
       "  <tbody>\n",
       "    <tr>\n",
       "      <th>0</th>\n",
       "      <td>Alphabetting, the first hedge fund based on fa...</td>\n",
       "      <td>https://www.alphabetting.com.br</td>\n",
       "      <td>True</td>\n",
       "    </tr>\n",
       "    <tr>\n",
       "      <th>1</th>\n",
       "      <td>Ikhala Impact - a one stop data shop for small...</td>\n",
       "      <td>https://www.africandata.tech/</td>\n",
       "      <td>True</td>\n",
       "    </tr>\n",
       "    <tr>\n",
       "      <th>2</th>\n",
       "      <td>DOM – unstoppable bank</td>\n",
       "      <td>https://dom.money/</td>\n",
       "      <td>True</td>\n",
       "    </tr>\n",
       "    <tr>\n",
       "      <th>3</th>\n",
       "      <td>Aquarian Creative: Artist-In-Residence, Schola...</td>\n",
       "      <td>http://m0niquesullivan.com/aquarian-creative/</td>\n",
       "      <td>False</td>\n",
       "    </tr>\n",
       "    <tr>\n",
       "      <th>4</th>\n",
       "      <td>SolDAO — Building Solidity as a DAO</td>\n",
       "      <td>https://solgov.eth.limo/</td>\n",
       "      <td>True</td>\n",
       "    </tr>\n",
       "    <tr>\n",
       "      <th>5</th>\n",
       "      <td>Bytekode</td>\n",
       "      <td>https://bytekode.xyz</td>\n",
       "      <td>True</td>\n",
       "    </tr>\n",
       "    <tr>\n",
       "      <th>6</th>\n",
       "      <td>meem protocol</td>\n",
       "      <td>https://meem.wtf/</td>\n",
       "      <td>True</td>\n",
       "    </tr>\n",
       "    <tr>\n",
       "      <th>7</th>\n",
       "      <td>Not So Quiet</td>\n",
       "      <td>https://white-paper.investinwomen.fi</td>\n",
       "      <td>True</td>\n",
       "    </tr>\n",
       "    <tr>\n",
       "      <th>8</th>\n",
       "      <td>**ETH infra** Grant for LexDAO, The Internatio...</td>\n",
       "      <td>https://lexdao.coop</td>\n",
       "      <td>True</td>\n",
       "    </tr>\n",
       "    <tr>\n",
       "      <th>9</th>\n",
       "      <td>333 Entertainment</td>\n",
       "      <td>https://discord.gg/xU4Fxavx</td>\n",
       "      <td>True</td>\n",
       "    </tr>\n",
       "  </tbody>\n",
       "</table>\n",
       "</div>"
      ],
      "text/plain": [
       "                                               title  \\\n",
       "0  Alphabetting, the first hedge fund based on fa...   \n",
       "1  Ikhala Impact - a one stop data shop for small...   \n",
       "2                             DOM – unstoppable bank   \n",
       "3  Aquarian Creative: Artist-In-Residence, Schola...   \n",
       "4                SolDAO — Building Solidity as a DAO   \n",
       "5                                           Bytekode   \n",
       "6                                      meem protocol   \n",
       "7                                       Not So Quiet   \n",
       "8  **ETH infra** Grant for LexDAO, The Internatio...   \n",
       "9                                  333 Entertainment   \n",
       "\n",
       "                                         website  website_validation_lego  \n",
       "0                https://www.alphabetting.com.br                     True  \n",
       "1                  https://www.africandata.tech/                     True  \n",
       "2                             https://dom.money/                     True  \n",
       "3  http://m0niquesullivan.com/aquarian-creative/                    False  \n",
       "4                       https://solgov.eth.limo/                     True  \n",
       "5                           https://bytekode.xyz                     True  \n",
       "6                              https://meem.wtf/                     True  \n",
       "7           https://white-paper.investinwomen.fi                     True  \n",
       "8                            https://lexdao.coop                     True  \n",
       "9                    https://discord.gg/xU4Fxavx                     True  "
      ]
     },
     "execution_count": 14,
     "metadata": {},
     "output_type": "execute_result"
    }
   ],
   "source": [
    "sample[['title','website','website_validation_lego']]"
   ]
  }
 ],
 "metadata": {
  "kernelspec": {
   "display_name": "Python 3 (ipykernel)",
   "language": "python",
   "name": "python3"
  },
  "language_info": {
   "codemirror_mode": {
    "name": "ipython",
    "version": 3
   },
   "file_extension": ".py",
   "mimetype": "text/x-python",
   "name": "python",
   "nbconvert_exporter": "python",
   "pygments_lexer": "ipython3",
   "version": "3.9.13"
  }
 },
 "nbformat": 4,
 "nbformat_minor": 5
}
